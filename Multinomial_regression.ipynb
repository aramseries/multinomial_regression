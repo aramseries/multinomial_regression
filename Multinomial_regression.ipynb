{
 "cells": [
  {
   "cell_type": "markdown",
   "id": "1132e4e4",
   "metadata": {},
   "source": [
    "# Multinomial Logistic Regression"
   ]
  },
  {
   "cell_type": "markdown",
   "id": "45cb8eb6",
   "metadata": {},
   "source": [
    "El ejercicio: \n",
    "\n",
    "***Los estudiantes eligen diferentes tipos de programa (prog). Dicha elección puede ser modelada según diferentes scores y variables.***"
   ]
  },
  {
   "cell_type": "code",
   "execution_count": 1,
   "id": "81c52dc7",
   "metadata": {},
   "outputs": [
    {
     "name": "stderr",
     "output_type": "stream",
     "text": [
      "Warning message:\n",
      "\"package 'dplyr' was built under R version 4.0.5\"\n",
      "\n",
      "Attaching package: 'dplyr'\n",
      "\n",
      "\n",
      "The following objects are masked from 'package:stats':\n",
      "\n",
      "    filter, lag\n",
      "\n",
      "\n",
      "The following objects are masked from 'package:base':\n",
      "\n",
      "    intersect, setdiff, setequal, union\n",
      "\n",
      "\n"
     ]
    }
   ],
   "source": [
    "#install.packages('foreign') #lee diversos formatos de diferentes programas estadístico\n",
    "library(foreign) \n",
    "library(dplyr) "
   ]
  },
  {
   "cell_type": "code",
   "execution_count": 3,
   "id": "4d49d872",
   "metadata": {
    "scrolled": true
   },
   "outputs": [
    {
     "data": {
      "text/html": [
       "<table class=\"dataframe\">\n",
       "<caption>A data.frame: 10 × 13</caption>\n",
       "<thead>\n",
       "\t<tr><th></th><th scope=col>id</th><th scope=col>female</th><th scope=col>ses</th><th scope=col>schtyp</th><th scope=col>prog</th><th scope=col>read</th><th scope=col>write</th><th scope=col>math</th><th scope=col>science</th><th scope=col>socst</th><th scope=col>honors</th><th scope=col>awards</th><th scope=col>cid</th></tr>\n",
       "\t<tr><th></th><th scope=col>&lt;dbl&gt;</th><th scope=col>&lt;fct&gt;</th><th scope=col>&lt;fct&gt;</th><th scope=col>&lt;fct&gt;</th><th scope=col>&lt;fct&gt;</th><th scope=col>&lt;dbl&gt;</th><th scope=col>&lt;dbl&gt;</th><th scope=col>&lt;dbl&gt;</th><th scope=col>&lt;dbl&gt;</th><th scope=col>&lt;dbl&gt;</th><th scope=col>&lt;fct&gt;</th><th scope=col>&lt;dbl&gt;</th><th scope=col>&lt;int&gt;</th></tr>\n",
       "</thead>\n",
       "<tbody>\n",
       "\t<tr><th scope=row>191</th><td>180</td><td>female</td><td>high  </td><td>private</td><td>academic</td><td>71</td><td>65</td><td>69</td><td>58</td><td>71</td><td>enrolled    </td><td>5</td><td>20</td></tr>\n",
       "\t<tr><th scope=row>192</th><td> 82</td><td>female</td><td>high  </td><td>public </td><td>academic</td><td>68</td><td>62</td><td>65</td><td>69</td><td>61</td><td>enrolled    </td><td>3</td><td>20</td></tr>\n",
       "\t<tr><th scope=row>193</th><td>174</td><td>male  </td><td>middle</td><td>private</td><td>academic</td><td>68</td><td>59</td><td>71</td><td>66</td><td>56</td><td>not enrolled</td><td>2</td><td>20</td></tr>\n",
       "\t<tr><th scope=row>194</th><td> 95</td><td>male  </td><td>high  </td><td>public </td><td>academic</td><td>73</td><td>60</td><td>71</td><td>61</td><td>71</td><td>enrolled    </td><td>2</td><td>20</td></tr>\n",
       "\t<tr><th scope=row>195</th><td> 61</td><td>female</td><td>high  </td><td>public </td><td>academic</td><td>76</td><td>63</td><td>60</td><td>67</td><td>66</td><td>enrolled    </td><td>4</td><td>20</td></tr>\n",
       "\t<tr><th scope=row>196</th><td>100</td><td>female</td><td>high  </td><td>public </td><td>academic</td><td>63</td><td>65</td><td>71</td><td>69</td><td>71</td><td>enrolled    </td><td>5</td><td>20</td></tr>\n",
       "\t<tr><th scope=row>197</th><td>143</td><td>male  </td><td>middle</td><td>public </td><td>vocation</td><td>63</td><td>63</td><td>75</td><td>72</td><td>66</td><td>enrolled    </td><td>4</td><td>20</td></tr>\n",
       "\t<tr><th scope=row>198</th><td> 68</td><td>male  </td><td>middle</td><td>public </td><td>academic</td><td>73</td><td>67</td><td>71</td><td>63</td><td>66</td><td>enrolled    </td><td>7</td><td>20</td></tr>\n",
       "\t<tr><th scope=row>199</th><td> 57</td><td>female</td><td>middle</td><td>public </td><td>academic</td><td>71</td><td>65</td><td>72</td><td>66</td><td>56</td><td>enrolled    </td><td>5</td><td>20</td></tr>\n",
       "\t<tr><th scope=row>200</th><td>132</td><td>male  </td><td>middle</td><td>public </td><td>academic</td><td>73</td><td>62</td><td>73</td><td>69</td><td>66</td><td>enrolled    </td><td>3</td><td>20</td></tr>\n",
       "</tbody>\n",
       "</table>\n"
      ],
      "text/latex": [
       "A data.frame: 10 × 13\n",
       "\\begin{tabular}{r|lllllllllllll}\n",
       "  & id & female & ses & schtyp & prog & read & write & math & science & socst & honors & awards & cid\\\\\n",
       "  & <dbl> & <fct> & <fct> & <fct> & <fct> & <dbl> & <dbl> & <dbl> & <dbl> & <dbl> & <fct> & <dbl> & <int>\\\\\n",
       "\\hline\n",
       "\t191 & 180 & female & high   & private & academic & 71 & 65 & 69 & 58 & 71 & enrolled     & 5 & 20\\\\\n",
       "\t192 &  82 & female & high   & public  & academic & 68 & 62 & 65 & 69 & 61 & enrolled     & 3 & 20\\\\\n",
       "\t193 & 174 & male   & middle & private & academic & 68 & 59 & 71 & 66 & 56 & not enrolled & 2 & 20\\\\\n",
       "\t194 &  95 & male   & high   & public  & academic & 73 & 60 & 71 & 61 & 71 & enrolled     & 2 & 20\\\\\n",
       "\t195 &  61 & female & high   & public  & academic & 76 & 63 & 60 & 67 & 66 & enrolled     & 4 & 20\\\\\n",
       "\t196 & 100 & female & high   & public  & academic & 63 & 65 & 71 & 69 & 71 & enrolled     & 5 & 20\\\\\n",
       "\t197 & 143 & male   & middle & public  & vocation & 63 & 63 & 75 & 72 & 66 & enrolled     & 4 & 20\\\\\n",
       "\t198 &  68 & male   & middle & public  & academic & 73 & 67 & 71 & 63 & 66 & enrolled     & 7 & 20\\\\\n",
       "\t199 &  57 & female & middle & public  & academic & 71 & 65 & 72 & 66 & 56 & enrolled     & 5 & 20\\\\\n",
       "\t200 & 132 & male   & middle & public  & academic & 73 & 62 & 73 & 69 & 66 & enrolled     & 3 & 20\\\\\n",
       "\\end{tabular}\n"
      ],
      "text/markdown": [
       "\n",
       "A data.frame: 10 × 13\n",
       "\n",
       "| <!--/--> | id &lt;dbl&gt; | female &lt;fct&gt; | ses &lt;fct&gt; | schtyp &lt;fct&gt; | prog &lt;fct&gt; | read &lt;dbl&gt; | write &lt;dbl&gt; | math &lt;dbl&gt; | science &lt;dbl&gt; | socst &lt;dbl&gt; | honors &lt;fct&gt; | awards &lt;dbl&gt; | cid &lt;int&gt; |\n",
       "|---|---|---|---|---|---|---|---|---|---|---|---|---|---|\n",
       "| 191 | 180 | female | high   | private | academic | 71 | 65 | 69 | 58 | 71 | enrolled     | 5 | 20 |\n",
       "| 192 |  82 | female | high   | public  | academic | 68 | 62 | 65 | 69 | 61 | enrolled     | 3 | 20 |\n",
       "| 193 | 174 | male   | middle | private | academic | 68 | 59 | 71 | 66 | 56 | not enrolled | 2 | 20 |\n",
       "| 194 |  95 | male   | high   | public  | academic | 73 | 60 | 71 | 61 | 71 | enrolled     | 2 | 20 |\n",
       "| 195 |  61 | female | high   | public  | academic | 76 | 63 | 60 | 67 | 66 | enrolled     | 4 | 20 |\n",
       "| 196 | 100 | female | high   | public  | academic | 63 | 65 | 71 | 69 | 71 | enrolled     | 5 | 20 |\n",
       "| 197 | 143 | male   | middle | public  | vocation | 63 | 63 | 75 | 72 | 66 | enrolled     | 4 | 20 |\n",
       "| 198 |  68 | male   | middle | public  | academic | 73 | 67 | 71 | 63 | 66 | enrolled     | 7 | 20 |\n",
       "| 199 |  57 | female | middle | public  | academic | 71 | 65 | 72 | 66 | 56 | enrolled     | 5 | 20 |\n",
       "| 200 | 132 | male   | middle | public  | academic | 73 | 62 | 73 | 69 | 66 | enrolled     | 3 | 20 |\n",
       "\n"
      ],
      "text/plain": [
       "    id  female ses    schtyp  prog     read write math science socst\n",
       "191 180 female high   private academic 71   65    69   58      71   \n",
       "192  82 female high   public  academic 68   62    65   69      61   \n",
       "193 174 male   middle private academic 68   59    71   66      56   \n",
       "194  95 male   high   public  academic 73   60    71   61      71   \n",
       "195  61 female high   public  academic 76   63    60   67      66   \n",
       "196 100 female high   public  academic 63   65    71   69      71   \n",
       "197 143 male   middle public  vocation 63   63    75   72      66   \n",
       "198  68 male   middle public  academic 73   67    71   63      66   \n",
       "199  57 female middle public  academic 71   65    72   66      56   \n",
       "200 132 male   middle public  academic 73   62    73   69      66   \n",
       "    honors       awards cid\n",
       "191 enrolled     5      20 \n",
       "192 enrolled     3      20 \n",
       "193 not enrolled 2      20 \n",
       "194 enrolled     2      20 \n",
       "195 enrolled     4      20 \n",
       "196 enrolled     5      20 \n",
       "197 enrolled     4      20 \n",
       "198 enrolled     7      20 \n",
       "199 enrolled     5      20 \n",
       "200 enrolled     3      20 "
      ]
     },
     "metadata": {},
     "output_type": "display_data"
    }
   ],
   "source": [
    "df=read.dta(\"https://stats.idre.ucla.edu/stat/data/hsbdemo.dta\")\n",
    "tail(df,10)"
   ]
  },
  {
   "cell_type": "code",
   "execution_count": 4,
   "id": "e664e6f2",
   "metadata": {},
   "outputs": [
    {
     "name": "stdout",
     "output_type": "stream",
     "text": [
      "'data.frame':\t200 obs. of  13 variables:\n",
      " $ id     : num  45 108 15 67 153 51 164 133 2 53 ...\n",
      " $ female : Factor w/ 2 levels \"male\",\"female\": 2 1 1 1 1 2 1 1 2 1 ...\n",
      " $ ses    : Factor w/ 3 levels \"low\",\"middle\",..: 1 2 3 1 2 3 2 2 2 2 ...\n",
      " $ schtyp : Factor w/ 2 levels \"public\",\"private\": 1 1 1 1 1 1 1 1 1 1 ...\n",
      " $ prog   : Factor w/ 3 levels \"general\",\"academic\",..: 3 1 3 3 3 1 3 3 3 3 ...\n",
      " $ read   : num  34 34 39 37 39 42 31 50 39 34 ...\n",
      " $ write  : num  35 33 39 37 31 36 36 31 41 37 ...\n",
      " $ math   : num  41 41 44 42 40 42 46 40 33 46 ...\n",
      " $ science: num  29 36 26 33 39 31 39 34 42 39 ...\n",
      " $ socst  : num  26 36 42 32 51 39 46 31 41 31 ...\n",
      " $ honors : Factor w/ 2 levels \"not enrolled\",..: 1 1 1 1 1 1 1 1 1 1 ...\n",
      " $ awards : num  0 0 0 0 0 0 0 0 0 0 ...\n",
      " $ cid    : int  1 1 1 1 1 1 1 1 1 1 ...\n",
      " - attr(*, \"datalabel\")= chr \"highschool and beyond (200 cases)\"\n",
      " - attr(*, \"time.stamp\")= chr \"30 Oct 2009 14:13\"\n",
      " - attr(*, \"formats\")= chr [1:13] \"%9.0g\" \"%9.0g\" \"%9.0g\" \"%9.0g\" ...\n",
      " - attr(*, \"types\")= int [1:13] 254 254 254 254 254 254 254 254 254 254 ...\n",
      " - attr(*, \"val.labels\")= chr [1:13] \"\" \"fl\" \"sl\" \"scl\" ...\n",
      " - attr(*, \"var.labels\")= chr [1:13] \"\" \"\" \"\" \"type of school\" ...\n",
      " - attr(*, \"version\")= int 8\n",
      " - attr(*, \"label.table\")=List of 5\n",
      "  ..$ sl    : Named int [1:3] 1 2 3\n",
      "  .. ..- attr(*, \"names\")= chr [1:3] \"low\" \"middle\" \"high\"\n",
      "  ..$ scl   : Named int [1:2] 1 2\n",
      "  .. ..- attr(*, \"names\")= chr [1:2] \"public\" \"private\"\n",
      "  ..$ sel   : Named int [1:3] 1 2 3\n",
      "  .. ..- attr(*, \"names\")= chr [1:3] \"general\" \"academic\" \"vocation\"\n",
      "  ..$ fl    : Named int [1:2] 0 1\n",
      "  .. ..- attr(*, \"names\")= chr [1:2] \"male\" \"female\"\n",
      "  ..$ honlab: Named int [1:2] 0 1\n",
      "  .. ..- attr(*, \"names\")= chr [1:2] \"not enrolled\" \"enrolled\"\n"
     ]
    }
   ],
   "source": [
    "str(df) #es para ver el tipo de variable en mi base"
   ]
  },
  {
   "cell_type": "code",
   "execution_count": 6,
   "id": "c4d648c9",
   "metadata": {},
   "outputs": [
    {
     "data": {
      "text/plain": [
       "\n",
       " general academic vocation \n",
       "      45      105       50 "
      ]
     },
     "metadata": {},
     "output_type": "display_data"
    }
   ],
   "source": [
    "#Frecuencia de la variable respuesta\n",
    "table(df$prog)"
   ]
  },
  {
   "cell_type": "code",
   "execution_count": 9,
   "id": "8c2886e1",
   "metadata": {},
   "outputs": [
    {
     "name": "stderr",
     "output_type": "stream",
     "text": [
      "`summarise()` has grouped output by 'prog'. You can override using the `.groups` argument.\n",
      "\n"
     ]
    },
    {
     "data": {
      "text/html": [
       "<table class=\"dataframe\">\n",
       "<caption>A grouped_df: 9 × 6</caption>\n",
       "<thead>\n",
       "\t<tr><th scope=col>prog</th><th scope=col>ses</th><th scope=col>count_prog</th><th scope=col>mean_read</th><th scope=col>mean_write</th><th scope=col>mean_math</th></tr>\n",
       "\t<tr><th scope=col>&lt;fct&gt;</th><th scope=col>&lt;fct&gt;</th><th scope=col>&lt;int&gt;</th><th scope=col>&lt;dbl&gt;</th><th scope=col>&lt;dbl&gt;</th><th scope=col>&lt;dbl&gt;</th></tr>\n",
       "</thead>\n",
       "<tbody>\n",
       "\t<tr><td>general </td><td>low   </td><td>16</td><td>47.56</td><td>51.44</td><td>47.56</td></tr>\n",
       "\t<tr><td>general </td><td>middle</td><td>20</td><td>51.05</td><td>49.60</td><td>51.10</td></tr>\n",
       "\t<tr><td>general </td><td>high  </td><td> 9</td><td>50.78</td><td>55.00</td><td>52.00</td></tr>\n",
       "\t<tr><td>academic</td><td>low   </td><td>19</td><td>53.00</td><td>53.63</td><td>53.95</td></tr>\n",
       "\t<tr><td>academic</td><td>middle</td><td>44</td><td>54.68</td><td>56.36</td><td>56.32</td></tr>\n",
       "\t<tr><td>academic</td><td>high  </td><td>42</td><td>59.14</td><td>57.33</td><td>58.43</td></tr>\n",
       "\t<tr><td>vocation</td><td>low   </td><td>12</td><td>41.75</td><td>44.75</td><td>43.75</td></tr>\n",
       "\t<tr><td>vocation</td><td>middle</td><td>31</td><td>47.52</td><td>47.13</td><td>47.10</td></tr>\n",
       "\t<tr><td>vocation</td><td>high  </td><td> 7</td><td>48.00</td><td>48.57</td><td>48.00</td></tr>\n",
       "</tbody>\n",
       "</table>\n"
      ],
      "text/latex": [
       "A grouped\\_df: 9 × 6\n",
       "\\begin{tabular}{llllll}\n",
       " prog & ses & count\\_prog & mean\\_read & mean\\_write & mean\\_math\\\\\n",
       " <fct> & <fct> & <int> & <dbl> & <dbl> & <dbl>\\\\\n",
       "\\hline\n",
       "\t general  & low    & 16 & 47.56 & 51.44 & 47.56\\\\\n",
       "\t general  & middle & 20 & 51.05 & 49.60 & 51.10\\\\\n",
       "\t general  & high   &  9 & 50.78 & 55.00 & 52.00\\\\\n",
       "\t academic & low    & 19 & 53.00 & 53.63 & 53.95\\\\\n",
       "\t academic & middle & 44 & 54.68 & 56.36 & 56.32\\\\\n",
       "\t academic & high   & 42 & 59.14 & 57.33 & 58.43\\\\\n",
       "\t vocation & low    & 12 & 41.75 & 44.75 & 43.75\\\\\n",
       "\t vocation & middle & 31 & 47.52 & 47.13 & 47.10\\\\\n",
       "\t vocation & high   &  7 & 48.00 & 48.57 & 48.00\\\\\n",
       "\\end{tabular}\n"
      ],
      "text/markdown": [
       "\n",
       "A grouped_df: 9 × 6\n",
       "\n",
       "| prog &lt;fct&gt; | ses &lt;fct&gt; | count_prog &lt;int&gt; | mean_read &lt;dbl&gt; | mean_write &lt;dbl&gt; | mean_math &lt;dbl&gt; |\n",
       "|---|---|---|---|---|---|\n",
       "| general  | low    | 16 | 47.56 | 51.44 | 47.56 |\n",
       "| general  | middle | 20 | 51.05 | 49.60 | 51.10 |\n",
       "| general  | high   |  9 | 50.78 | 55.00 | 52.00 |\n",
       "| academic | low    | 19 | 53.00 | 53.63 | 53.95 |\n",
       "| academic | middle | 44 | 54.68 | 56.36 | 56.32 |\n",
       "| academic | high   | 42 | 59.14 | 57.33 | 58.43 |\n",
       "| vocation | low    | 12 | 41.75 | 44.75 | 43.75 |\n",
       "| vocation | middle | 31 | 47.52 | 47.13 | 47.10 |\n",
       "| vocation | high   |  7 | 48.00 | 48.57 | 48.00 |\n",
       "\n"
      ],
      "text/plain": [
       "  prog     ses    count_prog mean_read mean_write mean_math\n",
       "1 general  low    16         47.56     51.44      47.56    \n",
       "2 general  middle 20         51.05     49.60      51.10    \n",
       "3 general  high    9         50.78     55.00      52.00    \n",
       "4 academic low    19         53.00     53.63      53.95    \n",
       "5 academic middle 44         54.68     56.36      56.32    \n",
       "6 academic high   42         59.14     57.33      58.43    \n",
       "7 vocation low    12         41.75     44.75      43.75    \n",
       "8 vocation middle 31         47.52     47.13      47.10    \n",
       "9 vocation high    7         48.00     48.57      48.00    "
      ]
     },
     "metadata": {},
     "output_type": "display_data"
    }
   ],
   "source": [
    "df%>%\n",
    "    group_by(prog,ses)%>%\n",
    "    summarize(count_prog=n(),\n",
    "             mean_read=round(mean(read),2),\n",
    "             mean_write=round(mean(write),2),\n",
    "             mean_math=round(mean(math),2))"
   ]
  },
  {
   "cell_type": "markdown",
   "id": "34bc51f5",
   "metadata": {},
   "source": [
    "**Tarea: Hacer gráficas descriptivas**"
   ]
  },
  {
   "cell_type": "code",
   "execution_count": 7,
   "id": "7bc2d0ab",
   "metadata": {},
   "outputs": [
    {
     "name": "stderr",
     "output_type": "stream",
     "text": [
      "Warning message:\n",
      "\"package 'nnet' was built under R version 4.0.5\"\n"
     ]
    }
   ],
   "source": [
    "#install.packages('nnet')\n",
    "library(nnet)"
   ]
  },
  {
   "cell_type": "markdown",
   "id": "2f584588",
   "metadata": {},
   "source": [
    "Tenemos que revisar los valores que toma mi variable prog (niveles/levels)"
   ]
  },
  {
   "cell_type": "code",
   "execution_count": 8,
   "id": "7066abb0",
   "metadata": {},
   "outputs": [
    {
     "data": {
      "text/html": [
       "<style>\n",
       ".list-inline {list-style: none; margin:0; padding: 0}\n",
       ".list-inline>li {display: inline-block}\n",
       ".list-inline>li:not(:last-child)::after {content: \"\\00b7\"; padding: 0 .5ex}\n",
       "</style>\n",
       "<ol class=list-inline><li>'general'</li><li>'academic'</li><li>'vocation'</li></ol>\n"
      ],
      "text/latex": [
       "\\begin{enumerate*}\n",
       "\\item 'general'\n",
       "\\item 'academic'\n",
       "\\item 'vocation'\n",
       "\\end{enumerate*}\n"
      ],
      "text/markdown": [
       "1. 'general'\n",
       "2. 'academic'\n",
       "3. 'vocation'\n",
       "\n",
       "\n"
      ],
      "text/plain": [
       "[1] \"general\"  \"academic\" \"vocation\""
      ]
     },
     "metadata": {},
     "output_type": "display_data"
    }
   ],
   "source": [
    "levels(df$prog)"
   ]
  },
  {
   "cell_type": "markdown",
   "id": "fed230bf",
   "metadata": {},
   "source": [
    "Tenemos que definir nuestro valor pivote en la variable, tenemos dos rutas:\n",
    "\n",
    "1. Hacerlo antes de crear nuestro modelo multinomial (función relevel).\n",
    "2. Hacerlo durante la creación del modelo multinomial."
   ]
  },
  {
   "cell_type": "markdown",
   "id": "3c3fc9c3",
   "metadata": {},
   "source": [
    "1. Antes del modelo multinomial"
   ]
  },
  {
   "cell_type": "code",
   "execution_count": 10,
   "id": "44713732",
   "metadata": {},
   "outputs": [
    {
     "data": {
      "text/html": [
       "<table class=\"dataframe\">\n",
       "<caption>A data.frame: 10 × 14</caption>\n",
       "<thead>\n",
       "\t<tr><th></th><th scope=col>id</th><th scope=col>female</th><th scope=col>ses</th><th scope=col>schtyp</th><th scope=col>prog</th><th scope=col>read</th><th scope=col>write</th><th scope=col>math</th><th scope=col>science</th><th scope=col>socst</th><th scope=col>honors</th><th scope=col>awards</th><th scope=col>cid</th><th scope=col>prog_2</th></tr>\n",
       "\t<tr><th></th><th scope=col>&lt;dbl&gt;</th><th scope=col>&lt;fct&gt;</th><th scope=col>&lt;fct&gt;</th><th scope=col>&lt;fct&gt;</th><th scope=col>&lt;fct&gt;</th><th scope=col>&lt;dbl&gt;</th><th scope=col>&lt;dbl&gt;</th><th scope=col>&lt;dbl&gt;</th><th scope=col>&lt;dbl&gt;</th><th scope=col>&lt;dbl&gt;</th><th scope=col>&lt;fct&gt;</th><th scope=col>&lt;dbl&gt;</th><th scope=col>&lt;int&gt;</th><th scope=col>&lt;fct&gt;</th></tr>\n",
       "</thead>\n",
       "<tbody>\n",
       "\t<tr><th scope=row>1</th><td> 45</td><td>female</td><td>low   </td><td>public</td><td>vocation</td><td>34</td><td>35</td><td>41</td><td>29</td><td>26</td><td>not enrolled</td><td>0</td><td>1</td><td>vocation</td></tr>\n",
       "\t<tr><th scope=row>2</th><td>108</td><td>male  </td><td>middle</td><td>public</td><td>general </td><td>34</td><td>33</td><td>41</td><td>36</td><td>36</td><td>not enrolled</td><td>0</td><td>1</td><td>general </td></tr>\n",
       "\t<tr><th scope=row>3</th><td> 15</td><td>male  </td><td>high  </td><td>public</td><td>vocation</td><td>39</td><td>39</td><td>44</td><td>26</td><td>42</td><td>not enrolled</td><td>0</td><td>1</td><td>vocation</td></tr>\n",
       "\t<tr><th scope=row>4</th><td> 67</td><td>male  </td><td>low   </td><td>public</td><td>vocation</td><td>37</td><td>37</td><td>42</td><td>33</td><td>32</td><td>not enrolled</td><td>0</td><td>1</td><td>vocation</td></tr>\n",
       "\t<tr><th scope=row>5</th><td>153</td><td>male  </td><td>middle</td><td>public</td><td>vocation</td><td>39</td><td>31</td><td>40</td><td>39</td><td>51</td><td>not enrolled</td><td>0</td><td>1</td><td>vocation</td></tr>\n",
       "\t<tr><th scope=row>6</th><td> 51</td><td>female</td><td>high  </td><td>public</td><td>general </td><td>42</td><td>36</td><td>42</td><td>31</td><td>39</td><td>not enrolled</td><td>0</td><td>1</td><td>general </td></tr>\n",
       "\t<tr><th scope=row>7</th><td>164</td><td>male  </td><td>middle</td><td>public</td><td>vocation</td><td>31</td><td>36</td><td>46</td><td>39</td><td>46</td><td>not enrolled</td><td>0</td><td>1</td><td>vocation</td></tr>\n",
       "\t<tr><th scope=row>8</th><td>133</td><td>male  </td><td>middle</td><td>public</td><td>vocation</td><td>50</td><td>31</td><td>40</td><td>34</td><td>31</td><td>not enrolled</td><td>0</td><td>1</td><td>vocation</td></tr>\n",
       "\t<tr><th scope=row>9</th><td>  2</td><td>female</td><td>middle</td><td>public</td><td>vocation</td><td>39</td><td>41</td><td>33</td><td>42</td><td>41</td><td>not enrolled</td><td>0</td><td>1</td><td>vocation</td></tr>\n",
       "\t<tr><th scope=row>10</th><td> 53</td><td>male  </td><td>middle</td><td>public</td><td>vocation</td><td>34</td><td>37</td><td>46</td><td>39</td><td>31</td><td>not enrolled</td><td>0</td><td>1</td><td>vocation</td></tr>\n",
       "</tbody>\n",
       "</table>\n"
      ],
      "text/latex": [
       "A data.frame: 10 × 14\n",
       "\\begin{tabular}{r|llllllllllllll}\n",
       "  & id & female & ses & schtyp & prog & read & write & math & science & socst & honors & awards & cid & prog\\_2\\\\\n",
       "  & <dbl> & <fct> & <fct> & <fct> & <fct> & <dbl> & <dbl> & <dbl> & <dbl> & <dbl> & <fct> & <dbl> & <int> & <fct>\\\\\n",
       "\\hline\n",
       "\t1 &  45 & female & low    & public & vocation & 34 & 35 & 41 & 29 & 26 & not enrolled & 0 & 1 & vocation\\\\\n",
       "\t2 & 108 & male   & middle & public & general  & 34 & 33 & 41 & 36 & 36 & not enrolled & 0 & 1 & general \\\\\n",
       "\t3 &  15 & male   & high   & public & vocation & 39 & 39 & 44 & 26 & 42 & not enrolled & 0 & 1 & vocation\\\\\n",
       "\t4 &  67 & male   & low    & public & vocation & 37 & 37 & 42 & 33 & 32 & not enrolled & 0 & 1 & vocation\\\\\n",
       "\t5 & 153 & male   & middle & public & vocation & 39 & 31 & 40 & 39 & 51 & not enrolled & 0 & 1 & vocation\\\\\n",
       "\t6 &  51 & female & high   & public & general  & 42 & 36 & 42 & 31 & 39 & not enrolled & 0 & 1 & general \\\\\n",
       "\t7 & 164 & male   & middle & public & vocation & 31 & 36 & 46 & 39 & 46 & not enrolled & 0 & 1 & vocation\\\\\n",
       "\t8 & 133 & male   & middle & public & vocation & 50 & 31 & 40 & 34 & 31 & not enrolled & 0 & 1 & vocation\\\\\n",
       "\t9 &   2 & female & middle & public & vocation & 39 & 41 & 33 & 42 & 41 & not enrolled & 0 & 1 & vocation\\\\\n",
       "\t10 &  53 & male   & middle & public & vocation & 34 & 37 & 46 & 39 & 31 & not enrolled & 0 & 1 & vocation\\\\\n",
       "\\end{tabular}\n"
      ],
      "text/markdown": [
       "\n",
       "A data.frame: 10 × 14\n",
       "\n",
       "| <!--/--> | id &lt;dbl&gt; | female &lt;fct&gt; | ses &lt;fct&gt; | schtyp &lt;fct&gt; | prog &lt;fct&gt; | read &lt;dbl&gt; | write &lt;dbl&gt; | math &lt;dbl&gt; | science &lt;dbl&gt; | socst &lt;dbl&gt; | honors &lt;fct&gt; | awards &lt;dbl&gt; | cid &lt;int&gt; | prog_2 &lt;fct&gt; |\n",
       "|---|---|---|---|---|---|---|---|---|---|---|---|---|---|---|\n",
       "| 1 |  45 | female | low    | public | vocation | 34 | 35 | 41 | 29 | 26 | not enrolled | 0 | 1 | vocation |\n",
       "| 2 | 108 | male   | middle | public | general  | 34 | 33 | 41 | 36 | 36 | not enrolled | 0 | 1 | general  |\n",
       "| 3 |  15 | male   | high   | public | vocation | 39 | 39 | 44 | 26 | 42 | not enrolled | 0 | 1 | vocation |\n",
       "| 4 |  67 | male   | low    | public | vocation | 37 | 37 | 42 | 33 | 32 | not enrolled | 0 | 1 | vocation |\n",
       "| 5 | 153 | male   | middle | public | vocation | 39 | 31 | 40 | 39 | 51 | not enrolled | 0 | 1 | vocation |\n",
       "| 6 |  51 | female | high   | public | general  | 42 | 36 | 42 | 31 | 39 | not enrolled | 0 | 1 | general  |\n",
       "| 7 | 164 | male   | middle | public | vocation | 31 | 36 | 46 | 39 | 46 | not enrolled | 0 | 1 | vocation |\n",
       "| 8 | 133 | male   | middle | public | vocation | 50 | 31 | 40 | 34 | 31 | not enrolled | 0 | 1 | vocation |\n",
       "| 9 |   2 | female | middle | public | vocation | 39 | 41 | 33 | 42 | 41 | not enrolled | 0 | 1 | vocation |\n",
       "| 10 |  53 | male   | middle | public | vocation | 34 | 37 | 46 | 39 | 31 | not enrolled | 0 | 1 | vocation |\n",
       "\n"
      ],
      "text/plain": [
       "   id  female ses    schtyp prog     read write math science socst honors      \n",
       "1   45 female low    public vocation 34   35    41   29      26    not enrolled\n",
       "2  108 male   middle public general  34   33    41   36      36    not enrolled\n",
       "3   15 male   high   public vocation 39   39    44   26      42    not enrolled\n",
       "4   67 male   low    public vocation 37   37    42   33      32    not enrolled\n",
       "5  153 male   middle public vocation 39   31    40   39      51    not enrolled\n",
       "6   51 female high   public general  42   36    42   31      39    not enrolled\n",
       "7  164 male   middle public vocation 31   36    46   39      46    not enrolled\n",
       "8  133 male   middle public vocation 50   31    40   34      31    not enrolled\n",
       "9    2 female middle public vocation 39   41    33   42      41    not enrolled\n",
       "10  53 male   middle public vocation 34   37    46   39      31    not enrolled\n",
       "   awards cid prog_2  \n",
       "1  0      1   vocation\n",
       "2  0      1   general \n",
       "3  0      1   vocation\n",
       "4  0      1   vocation\n",
       "5  0      1   vocation\n",
       "6  0      1   general \n",
       "7  0      1   vocation\n",
       "8  0      1   vocation\n",
       "9  0      1   vocation\n",
       "10 0      1   vocation"
      ]
     },
     "metadata": {},
     "output_type": "display_data"
    }
   ],
   "source": [
    "df$prog_2=relevel(df$prog,ref='academic')\n",
    "head(df,10)"
   ]
  },
  {
   "cell_type": "code",
   "execution_count": 11,
   "id": "6e61969b",
   "metadata": {},
   "outputs": [
    {
     "name": "stdout",
     "output_type": "stream",
     "text": [
      "'data.frame':\t200 obs. of  14 variables:\n",
      " $ id     : num  45 108 15 67 153 51 164 133 2 53 ...\n",
      " $ female : Factor w/ 2 levels \"male\",\"female\": 2 1 1 1 1 2 1 1 2 1 ...\n",
      " $ ses    : Factor w/ 3 levels \"low\",\"middle\",..: 1 2 3 1 2 3 2 2 2 2 ...\n",
      " $ schtyp : Factor w/ 2 levels \"public\",\"private\": 1 1 1 1 1 1 1 1 1 1 ...\n",
      " $ prog   : Factor w/ 3 levels \"general\",\"academic\",..: 3 1 3 3 3 1 3 3 3 3 ...\n",
      " $ read   : num  34 34 39 37 39 42 31 50 39 34 ...\n",
      " $ write  : num  35 33 39 37 31 36 36 31 41 37 ...\n",
      " $ math   : num  41 41 44 42 40 42 46 40 33 46 ...\n",
      " $ science: num  29 36 26 33 39 31 39 34 42 39 ...\n",
      " $ socst  : num  26 36 42 32 51 39 46 31 41 31 ...\n",
      " $ honors : Factor w/ 2 levels \"not enrolled\",..: 1 1 1 1 1 1 1 1 1 1 ...\n",
      " $ awards : num  0 0 0 0 0 0 0 0 0 0 ...\n",
      " $ cid    : int  1 1 1 1 1 1 1 1 1 1 ...\n",
      " $ prog_2 : Factor w/ 3 levels \"academic\",\"general\",..: 3 2 3 3 3 2 3 3 3 3 ...\n",
      " - attr(*, \"datalabel\")= chr \"highschool and beyond (200 cases)\"\n",
      " - attr(*, \"time.stamp\")= chr \"30 Oct 2009 14:13\"\n",
      " - attr(*, \"formats\")= chr [1:13] \"%9.0g\" \"%9.0g\" \"%9.0g\" \"%9.0g\" ...\n",
      " - attr(*, \"types\")= int [1:13] 254 254 254 254 254 254 254 254 254 254 ...\n",
      " - attr(*, \"val.labels\")= chr [1:13] \"\" \"fl\" \"sl\" \"scl\" ...\n",
      " - attr(*, \"var.labels\")= chr [1:13] \"\" \"\" \"\" \"type of school\" ...\n",
      " - attr(*, \"version\")= int 8\n",
      " - attr(*, \"label.table\")=List of 5\n",
      "  ..$ sl    : Named int [1:3] 1 2 3\n",
      "  .. ..- attr(*, \"names\")= chr [1:3] \"low\" \"middle\" \"high\"\n",
      "  ..$ scl   : Named int [1:2] 1 2\n",
      "  .. ..- attr(*, \"names\")= chr [1:2] \"public\" \"private\"\n",
      "  ..$ sel   : Named int [1:3] 1 2 3\n",
      "  .. ..- attr(*, \"names\")= chr [1:3] \"general\" \"academic\" \"vocation\"\n",
      "  ..$ fl    : Named int [1:2] 0 1\n",
      "  .. ..- attr(*, \"names\")= chr [1:2] \"male\" \"female\"\n",
      "  ..$ honlab: Named int [1:2] 0 1\n",
      "  .. ..- attr(*, \"names\")= chr [1:2] \"not enrolled\" \"enrolled\"\n"
     ]
    }
   ],
   "source": [
    "str(df)"
   ]
  },
  {
   "cell_type": "markdown",
   "id": "c4abf947",
   "metadata": {},
   "source": [
    "Crear mi primer modelo multinomial :)"
   ]
  },
  {
   "cell_type": "code",
   "execution_count": 15,
   "id": "99978d79",
   "metadata": {},
   "outputs": [
    {
     "name": "stdout",
     "output_type": "stream",
     "text": [
      "# weights:  15 (8 variable)\n",
      "initial  value 219.722458 \n",
      "iter  10 value 179.982880\n",
      "final  value 179.981726 \n",
      "converged\n"
     ]
    },
    {
     "data": {
      "text/plain": [
       "Call:\n",
       "multinom(formula = prog_2 ~ ses + write, data = df)\n",
       "\n",
       "Coefficients:\n",
       "         (Intercept)  sesmiddle    seshigh      write\n",
       "general     2.852198 -0.5332810 -1.1628226 -0.0579287\n",
       "vocation    5.218260  0.2913859 -0.9826649 -0.1136037\n",
       "\n",
       "Std. Errors:\n",
       "         (Intercept) sesmiddle   seshigh      write\n",
       "general     1.166441 0.4437323 0.5142196 0.02141097\n",
       "vocation    1.163552 0.4763739 0.5955665 0.02221996\n",
       "\n",
       "Residual Deviance: 359.9635 \n",
       "AIC: 375.9635 "
      ]
     },
     "metadata": {},
     "output_type": "display_data"
    }
   ],
   "source": [
    "multi1=multinom(prog_2~ses+write,data=df) #nuestra variable respuesta es la relevel\n",
    "summary(multi1)"
   ]
  },
  {
   "cell_type": "markdown",
   "id": "0f69fdf9",
   "metadata": {},
   "source": [
    "Para B=-0.53, sería algo así \"la B asociada a un estudiante que elige bachillerato general, en comparación con académico y su nivel socioeconómico es medio (en comparación con una persona que proviene de un nivel socioeconómico bajo). "
   ]
  },
  {
   "cell_type": "code",
   "execution_count": 13,
   "id": "a8f82b4a",
   "metadata": {},
   "outputs": [
    {
     "data": {
      "text/html": [
       "0.586676921465547"
      ],
      "text/latex": [
       "0.586676921465547"
      ],
      "text/markdown": [
       "0.586676921465547"
      ],
      "text/plain": [
       "[1] 0.5866769"
      ]
     },
     "metadata": {},
     "output_type": "display_data"
    }
   ],
   "source": [
    "exp(-0.5332810)"
   ]
  },
  {
   "cell_type": "code",
   "execution_count": 14,
   "id": "87048556",
   "metadata": {},
   "outputs": [
    {
     "data": {
      "text/html": [
       "1.33828092692495"
      ],
      "text/latex": [
       "1.33828092692495"
      ],
      "text/markdown": [
       "1.33828092692495"
      ],
      "text/plain": [
       "[1] 1.338281"
      ]
     },
     "metadata": {},
     "output_type": "display_data"
    }
   ],
   "source": [
    "exp(0.2913859)"
   ]
  },
  {
   "cell_type": "markdown",
   "id": "bb40dc4e",
   "metadata": {},
   "source": [
    "Opción 2: Nivelar (definir) la etiqueta pivote durante la creación del modelo."
   ]
  },
  {
   "cell_type": "code",
   "execution_count": 19,
   "id": "84f5c24f",
   "metadata": {},
   "outputs": [
    {
     "name": "stdout",
     "output_type": "stream",
     "text": [
      "# weights:  15 (8 variable)\n",
      "initial  value 219.722458 \n",
      "iter  10 value 179.985215\n",
      "final  value 179.981726 \n",
      "converged\n"
     ]
    },
    {
     "data": {
      "text/plain": [
       "Call:\n",
       "multinom(formula = prog ~ ses + write, data = df)\n",
       "\n",
       "Coefficients:\n",
       "         (Intercept) sesmiddle   seshigh       write\n",
       "academic   -2.851973 0.5332914 1.1628257  0.05792480\n",
       "vocation    2.366097 0.8246384 0.1802176 -0.05567514\n",
       "\n",
       "Std. Errors:\n",
       "         (Intercept) sesmiddle   seshigh      write\n",
       "academic    1.166437 0.4437319 0.5142215 0.02141092\n",
       "vocation    1.174251 0.4901237 0.6484508 0.02333135\n",
       "\n",
       "Residual Deviance: 359.9635 \n",
       "AIC: 375.9635 "
      ]
     },
     "metadata": {},
     "output_type": "display_data"
    }
   ],
   "source": [
    "multi2=multinom(prog~ses+write,data=df)#,contrasts='vocation')\n",
    "summary(multi2)"
   ]
  },
  {
   "cell_type": "code",
   "execution_count": 42,
   "id": "351ee240",
   "metadata": {},
   "outputs": [
    {
     "data": {
      "text/html": [
       "<table class=\"dataframe\">\n",
       "<caption>A matrix: 2 × 4 of type dbl</caption>\n",
       "<thead>\n",
       "\t<tr><th></th><th scope=col>(Intercept)</th><th scope=col>sesmiddle</th><th scope=col>seshigh</th><th scope=col>write</th></tr>\n",
       "</thead>\n",
       "<tbody>\n",
       "\t<tr><th scope=row>general</th><td>2.445214</td><td>-1.2018081</td><td>-2.261334</td><td>-2.705562</td></tr>\n",
       "\t<tr><th scope=row>vocation</th><td>4.484769</td><td> 0.6116747</td><td>-1.649967</td><td>-5.112689</td></tr>\n",
       "</tbody>\n",
       "</table>\n"
      ],
      "text/latex": [
       "A matrix: 2 × 4 of type dbl\n",
       "\\begin{tabular}{r|llll}\n",
       "  & (Intercept) & sesmiddle & seshigh & write\\\\\n",
       "\\hline\n",
       "\tgeneral & 2.445214 & -1.2018081 & -2.261334 & -2.705562\\\\\n",
       "\tvocation & 4.484769 &  0.6116747 & -1.649967 & -5.112689\\\\\n",
       "\\end{tabular}\n"
      ],
      "text/markdown": [
       "\n",
       "A matrix: 2 × 4 of type dbl\n",
       "\n",
       "| <!--/--> | (Intercept) | sesmiddle | seshigh | write |\n",
       "|---|---|---|---|---|\n",
       "| general | 2.445214 | -1.2018081 | -2.261334 | -2.705562 |\n",
       "| vocation | 4.484769 |  0.6116747 | -1.649967 | -5.112689 |\n",
       "\n"
      ],
      "text/plain": [
       "         (Intercept) sesmiddle  seshigh   write    \n",
       "general  2.445214    -1.2018081 -2.261334 -2.705562\n",
       "vocation 4.484769     0.6116747 -1.649967 -5.112689"
      ]
     },
     "metadata": {},
     "output_type": "display_data"
    }
   ],
   "source": [
    "estadisticos=summary(multi1)$coefficients/summary(multi1)$standard.errors\n",
    "estadisticos"
   ]
  },
  {
   "cell_type": "code",
   "execution_count": 43,
   "id": "e400b915",
   "metadata": {},
   "outputs": [
    {
     "data": {
      "text/html": [
       "<table class=\"dataframe\">\n",
       "<caption>A matrix: 2 × 4 of type dbl</caption>\n",
       "<thead>\n",
       "\t<tr><th></th><th scope=col>(Intercept)</th><th scope=col>sesmiddle</th><th scope=col>seshigh</th><th scope=col>write</th></tr>\n",
       "</thead>\n",
       "<tbody>\n",
       "\t<tr><th scope=row>general</th><td>0.0144766100</td><td>0.2294379</td><td>0.02373856</td><td>6.818902e-03</td></tr>\n",
       "\t<tr><th scope=row>vocation</th><td>0.0000072993</td><td>0.5407530</td><td>0.09894976</td><td>3.176045e-07</td></tr>\n",
       "</tbody>\n",
       "</table>\n"
      ],
      "text/latex": [
       "A matrix: 2 × 4 of type dbl\n",
       "\\begin{tabular}{r|llll}\n",
       "  & (Intercept) & sesmiddle & seshigh & write\\\\\n",
       "\\hline\n",
       "\tgeneral & 0.0144766100 & 0.2294379 & 0.02373856 & 6.818902e-03\\\\\n",
       "\tvocation & 0.0000072993 & 0.5407530 & 0.09894976 & 3.176045e-07\\\\\n",
       "\\end{tabular}\n"
      ],
      "text/markdown": [
       "\n",
       "A matrix: 2 × 4 of type dbl\n",
       "\n",
       "| <!--/--> | (Intercept) | sesmiddle | seshigh | write |\n",
       "|---|---|---|---|---|\n",
       "| general | 0.0144766100 | 0.2294379 | 0.02373856 | 6.818902e-03 |\n",
       "| vocation | 0.0000072993 | 0.5407530 | 0.09894976 | 3.176045e-07 |\n",
       "\n"
      ],
      "text/plain": [
       "         (Intercept)  sesmiddle seshigh    write       \n",
       "general  0.0144766100 0.2294379 0.02373856 6.818902e-03\n",
       "vocation 0.0000072993 0.5407530 0.09894976 3.176045e-07"
      ]
     },
     "metadata": {},
     "output_type": "display_data"
    }
   ],
   "source": [
    "pvalues=(1-pnorm(abs(estadisticos),0,1))*2\n",
    "pvalues"
   ]
  },
  {
   "cell_type": "code",
   "execution_count": 26,
   "id": "22aa2b02",
   "metadata": {},
   "outputs": [
    {
     "data": {
      "text/plain": [
       "Call:\n",
       "multinom(formula = prog_2 ~ ses + write, data = df)\n",
       "\n",
       "Coefficients:\n",
       "         (Intercept)  sesmiddle    seshigh      write\n",
       "general     2.852198 -0.5332810 -1.1628226 -0.0579287\n",
       "vocation    5.218260  0.2913859 -0.9826649 -0.1136037\n",
       "\n",
       "Residual Deviance: 359.9635 \n",
       "AIC: 375.9635 "
      ]
     },
     "metadata": {},
     "output_type": "display_data"
    }
   ],
   "source": [
    "multi1"
   ]
  },
  {
   "cell_type": "code",
   "execution_count": 37,
   "id": "ec9aad6c",
   "metadata": {},
   "outputs": [
    {
     "data": {
      "text/html": [
       "<style>\n",
       ".list-inline {list-style: none; margin:0; padding: 0}\n",
       ".list-inline>li {display: inline-block}\n",
       ".list-inline>li:not(:last-child)::after {content: \"\\00b7\"; padding: 0 .5ex}\n",
       "</style>\n",
       "<ol class=list-inline><li>'AIC'</li><li>'call'</li><li>'censored'</li><li>'coefnames'</li><li>'conn'</li><li>'contrasts'</li><li>'convergence'</li><li>'decay'</li><li>'deviance'</li><li>'edf'</li><li>'entropy'</li><li>'fitted.values'</li><li>'lab'</li><li>'lev'</li><li>'n'</li><li>'nconn'</li><li>'nsunits'</li><li>'nunits'</li><li>'rank'</li><li>'residuals'</li><li>'softmax'</li><li>'terms'</li><li>'value'</li><li>'vcoefnames'</li><li>'weights'</li><li>'wts'</li><li>'xlevels'</li></ol>\n"
      ],
      "text/latex": [
       "\\begin{enumerate*}\n",
       "\\item 'AIC'\n",
       "\\item 'call'\n",
       "\\item 'censored'\n",
       "\\item 'coefnames'\n",
       "\\item 'conn'\n",
       "\\item 'contrasts'\n",
       "\\item 'convergence'\n",
       "\\item 'decay'\n",
       "\\item 'deviance'\n",
       "\\item 'edf'\n",
       "\\item 'entropy'\n",
       "\\item 'fitted.values'\n",
       "\\item 'lab'\n",
       "\\item 'lev'\n",
       "\\item 'n'\n",
       "\\item 'nconn'\n",
       "\\item 'nsunits'\n",
       "\\item 'nunits'\n",
       "\\item 'rank'\n",
       "\\item 'residuals'\n",
       "\\item 'softmax'\n",
       "\\item 'terms'\n",
       "\\item 'value'\n",
       "\\item 'vcoefnames'\n",
       "\\item 'weights'\n",
       "\\item 'wts'\n",
       "\\item 'xlevels'\n",
       "\\end{enumerate*}\n"
      ],
      "text/markdown": [
       "1. 'AIC'\n",
       "2. 'call'\n",
       "3. 'censored'\n",
       "4. 'coefnames'\n",
       "5. 'conn'\n",
       "6. 'contrasts'\n",
       "7. 'convergence'\n",
       "8. 'decay'\n",
       "9. 'deviance'\n",
       "10. 'edf'\n",
       "11. 'entropy'\n",
       "12. 'fitted.values'\n",
       "13. 'lab'\n",
       "14. 'lev'\n",
       "15. 'n'\n",
       "16. 'nconn'\n",
       "17. 'nsunits'\n",
       "18. 'nunits'\n",
       "19. 'rank'\n",
       "20. 'residuals'\n",
       "21. 'softmax'\n",
       "22. 'terms'\n",
       "23. 'value'\n",
       "24. 'vcoefnames'\n",
       "25. 'weights'\n",
       "26. 'wts'\n",
       "27. 'xlevels'\n",
       "\n",
       "\n"
      ],
      "text/plain": [
       " [1] \"AIC\"           \"call\"          \"censored\"      \"coefnames\"    \n",
       " [5] \"conn\"          \"contrasts\"     \"convergence\"   \"decay\"        \n",
       " [9] \"deviance\"      \"edf\"           \"entropy\"       \"fitted.values\"\n",
       "[13] \"lab\"           \"lev\"           \"n\"             \"nconn\"        \n",
       "[17] \"nsunits\"       \"nunits\"        \"rank\"          \"residuals\"    \n",
       "[21] \"softmax\"       \"terms\"         \"value\"         \"vcoefnames\"   \n",
       "[25] \"weights\"       \"wts\"           \"xlevels\"      "
      ]
     },
     "metadata": {},
     "output_type": "display_data"
    }
   ],
   "source": [
    "ls(multi1)"
   ]
  },
  {
   "cell_type": "code",
   "execution_count": 21,
   "id": "5d4eb056",
   "metadata": {},
   "outputs": [
    {
     "data": {
      "text/html": [
       "<style>\n",
       ".list-inline {list-style: none; margin:0; padding: 0}\n",
       ".list-inline>li {display: inline-block}\n",
       ".list-inline>li:not(:last-child)::after {content: \"\\00b7\"; padding: 0 .5ex}\n",
       "</style>\n",
       "<ol class=list-inline><li>'(Intercept)'</li><li>'sesmiddle'</li><li>'seshigh'</li><li>'write'</li></ol>\n"
      ],
      "text/latex": [
       "\\begin{enumerate*}\n",
       "\\item '(Intercept)'\n",
       "\\item 'sesmiddle'\n",
       "\\item 'seshigh'\n",
       "\\item 'write'\n",
       "\\end{enumerate*}\n"
      ],
      "text/markdown": [
       "1. '(Intercept)'\n",
       "2. 'sesmiddle'\n",
       "3. 'seshigh'\n",
       "4. 'write'\n",
       "\n",
       "\n"
      ],
      "text/plain": [
       "[1] \"(Intercept)\" \"sesmiddle\"   \"seshigh\"     \"write\"      "
      ]
     },
     "metadata": {},
     "output_type": "display_data"
    }
   ],
   "source": [
    "multi1$coefnames"
   ]
  },
  {
   "cell_type": "code",
   "execution_count": 44,
   "id": "8a0fdbf8",
   "metadata": {},
   "outputs": [
    {
     "data": {
      "text/html": [
       "<style>\n",
       ".list-inline {list-style: none; margin:0; padding: 0}\n",
       ".list-inline>li {display: inline-block}\n",
       ".list-inline>li:not(:last-child)::after {content: \"\\00b7\"; padding: 0 .5ex}\n",
       "</style>\n",
       "<ol class=list-inline><li>'AIC'</li><li>'call'</li><li>'censored'</li><li>'coefficients'</li><li>'coefnames'</li><li>'conn'</li><li>'contrasts'</li><li>'convergence'</li><li>'decay'</li><li>'deviance'</li><li>'digits'</li><li>'edf'</li><li>'entropy'</li><li>'fitted.values'</li><li>'is.binomial'</li><li>'lab'</li><li>'lev'</li><li>'n'</li><li>'nconn'</li><li>'nsunits'</li><li>'nunits'</li><li>'rank'</li><li>'residuals'</li><li>'softmax'</li><li>'standard.errors'</li><li>'terms'</li><li>'value'</li><li>'vcoefnames'</li><li>'weights'</li><li>'wts'</li><li>'xlevels'</li></ol>\n"
      ],
      "text/latex": [
       "\\begin{enumerate*}\n",
       "\\item 'AIC'\n",
       "\\item 'call'\n",
       "\\item 'censored'\n",
       "\\item 'coefficients'\n",
       "\\item 'coefnames'\n",
       "\\item 'conn'\n",
       "\\item 'contrasts'\n",
       "\\item 'convergence'\n",
       "\\item 'decay'\n",
       "\\item 'deviance'\n",
       "\\item 'digits'\n",
       "\\item 'edf'\n",
       "\\item 'entropy'\n",
       "\\item 'fitted.values'\n",
       "\\item 'is.binomial'\n",
       "\\item 'lab'\n",
       "\\item 'lev'\n",
       "\\item 'n'\n",
       "\\item 'nconn'\n",
       "\\item 'nsunits'\n",
       "\\item 'nunits'\n",
       "\\item 'rank'\n",
       "\\item 'residuals'\n",
       "\\item 'softmax'\n",
       "\\item 'standard.errors'\n",
       "\\item 'terms'\n",
       "\\item 'value'\n",
       "\\item 'vcoefnames'\n",
       "\\item 'weights'\n",
       "\\item 'wts'\n",
       "\\item 'xlevels'\n",
       "\\end{enumerate*}\n"
      ],
      "text/markdown": [
       "1. 'AIC'\n",
       "2. 'call'\n",
       "3. 'censored'\n",
       "4. 'coefficients'\n",
       "5. 'coefnames'\n",
       "6. 'conn'\n",
       "7. 'contrasts'\n",
       "8. 'convergence'\n",
       "9. 'decay'\n",
       "10. 'deviance'\n",
       "11. 'digits'\n",
       "12. 'edf'\n",
       "13. 'entropy'\n",
       "14. 'fitted.values'\n",
       "15. 'is.binomial'\n",
       "16. 'lab'\n",
       "17. 'lev'\n",
       "18. 'n'\n",
       "19. 'nconn'\n",
       "20. 'nsunits'\n",
       "21. 'nunits'\n",
       "22. 'rank'\n",
       "23. 'residuals'\n",
       "24. 'softmax'\n",
       "25. 'standard.errors'\n",
       "26. 'terms'\n",
       "27. 'value'\n",
       "28. 'vcoefnames'\n",
       "29. 'weights'\n",
       "30. 'wts'\n",
       "31. 'xlevels'\n",
       "\n",
       "\n"
      ],
      "text/plain": [
       " [1] \"AIC\"             \"call\"            \"censored\"        \"coefficients\"   \n",
       " [5] \"coefnames\"       \"conn\"            \"contrasts\"       \"convergence\"    \n",
       " [9] \"decay\"           \"deviance\"        \"digits\"          \"edf\"            \n",
       "[13] \"entropy\"         \"fitted.values\"   \"is.binomial\"     \"lab\"            \n",
       "[17] \"lev\"             \"n\"               \"nconn\"           \"nsunits\"        \n",
       "[21] \"nunits\"          \"rank\"            \"residuals\"       \"softmax\"        \n",
       "[25] \"standard.errors\" \"terms\"           \"value\"           \"vcoefnames\"     \n",
       "[29] \"weights\"         \"wts\"             \"xlevels\"        "
      ]
     },
     "metadata": {},
     "output_type": "display_data"
    }
   ],
   "source": [
    "ls(summary(multi1))"
   ]
  },
  {
   "cell_type": "code",
   "execution_count": 25,
   "id": "af068c0c",
   "metadata": {},
   "outputs": [
    {
     "data": {
      "text/plain": [
       "NULL"
      ]
     },
     "metadata": {},
     "output_type": "display_data"
    }
   ],
   "source": [
    "summary(multi1)$Std.Errors"
   ]
  },
  {
   "cell_type": "code",
   "execution_count": 28,
   "id": "87303d81",
   "metadata": {},
   "outputs": [
    {
     "data": {
      "text/html": [
       "<table class=\"dataframe\">\n",
       "<caption>A matrix: 10 × 3 of type dbl</caption>\n",
       "<thead>\n",
       "\t<tr><th></th><th scope=col>academic</th><th scope=col>general</th><th scope=col>vocation</th></tr>\n",
       "</thead>\n",
       "<tbody>\n",
       "\t<tr><th scope=row>1</th><td>0.1482764</td><td>0.3382454</td><td>0.5134781</td></tr>\n",
       "\t<tr><th scope=row>2</th><td>0.1202017</td><td>0.1806283</td><td>0.6991700</td></tr>\n",
       "\t<tr><th scope=row>3</th><td>0.4186747</td><td>0.2368082</td><td>0.3445171</td></tr>\n",
       "\t<tr><th scope=row>4</th><td>0.1726885</td><td>0.3508384</td><td>0.4764731</td></tr>\n",
       "\t<tr><th scope=row>5</th><td>0.1001231</td><td>0.1689374</td><td>0.7309395</td></tr>\n",
       "\t<tr><th scope=row>6</th><td>0.3533566</td><td>0.2377976</td><td>0.4088458</td></tr>\n",
       "\t<tr><th scope=row>7</th><td>0.1562562</td><td>0.1973504</td><td>0.6463934</td></tr>\n",
       "\t<tr><th scope=row>8</th><td>0.1001231</td><td>0.1689374</td><td>0.7309395</td></tr>\n",
       "\t<tr><th scope=row>9</th><td>0.2331292</td><td>0.2203976</td><td>0.5464732</td></tr>\n",
       "\t<tr><th scope=row>10</th><td>0.1699402</td><td>0.2025531</td><td>0.6275067</td></tr>\n",
       "</tbody>\n",
       "</table>\n"
      ],
      "text/latex": [
       "A matrix: 10 × 3 of type dbl\n",
       "\\begin{tabular}{r|lll}\n",
       "  & academic & general & vocation\\\\\n",
       "\\hline\n",
       "\t1 & 0.1482764 & 0.3382454 & 0.5134781\\\\\n",
       "\t2 & 0.1202017 & 0.1806283 & 0.6991700\\\\\n",
       "\t3 & 0.4186747 & 0.2368082 & 0.3445171\\\\\n",
       "\t4 & 0.1726885 & 0.3508384 & 0.4764731\\\\\n",
       "\t5 & 0.1001231 & 0.1689374 & 0.7309395\\\\\n",
       "\t6 & 0.3533566 & 0.2377976 & 0.4088458\\\\\n",
       "\t7 & 0.1562562 & 0.1973504 & 0.6463934\\\\\n",
       "\t8 & 0.1001231 & 0.1689374 & 0.7309395\\\\\n",
       "\t9 & 0.2331292 & 0.2203976 & 0.5464732\\\\\n",
       "\t10 & 0.1699402 & 0.2025531 & 0.6275067\\\\\n",
       "\\end{tabular}\n"
      ],
      "text/markdown": [
       "\n",
       "A matrix: 10 × 3 of type dbl\n",
       "\n",
       "| <!--/--> | academic | general | vocation |\n",
       "|---|---|---|---|\n",
       "| 1 | 0.1482764 | 0.3382454 | 0.5134781 |\n",
       "| 2 | 0.1202017 | 0.1806283 | 0.6991700 |\n",
       "| 3 | 0.4186747 | 0.2368082 | 0.3445171 |\n",
       "| 4 | 0.1726885 | 0.3508384 | 0.4764731 |\n",
       "| 5 | 0.1001231 | 0.1689374 | 0.7309395 |\n",
       "| 6 | 0.3533566 | 0.2377976 | 0.4088458 |\n",
       "| 7 | 0.1562562 | 0.1973504 | 0.6463934 |\n",
       "| 8 | 0.1001231 | 0.1689374 | 0.7309395 |\n",
       "| 9 | 0.2331292 | 0.2203976 | 0.5464732 |\n",
       "| 10 | 0.1699402 | 0.2025531 | 0.6275067 |\n",
       "\n"
      ],
      "text/plain": [
       "   academic  general   vocation \n",
       "1  0.1482764 0.3382454 0.5134781\n",
       "2  0.1202017 0.1806283 0.6991700\n",
       "3  0.4186747 0.2368082 0.3445171\n",
       "4  0.1726885 0.3508384 0.4764731\n",
       "5  0.1001231 0.1689374 0.7309395\n",
       "6  0.3533566 0.2377976 0.4088458\n",
       "7  0.1562562 0.1973504 0.6463934\n",
       "8  0.1001231 0.1689374 0.7309395\n",
       "9  0.2331292 0.2203976 0.5464732\n",
       "10 0.1699402 0.2025531 0.6275067"
      ]
     },
     "metadata": {},
     "output_type": "display_data"
    }
   ],
   "source": [
    "probabilidades=multi1$fitted.values\n",
    "head(probabilidades,10)"
   ]
  },
  {
   "cell_type": "markdown",
   "id": "c336c9cc",
   "metadata": {},
   "source": [
    "**TAREA: Estimar las probabilidades del modelo1 usando predict. Segundo, construir la matriz de confusion; después, estimar las métricas que hemos visto Accuracy,VP,FP...**"
   ]
  }
 ],
 "metadata": {
  "kernelspec": {
   "display_name": "R",
   "language": "R",
   "name": "ir"
  },
  "language_info": {
   "codemirror_mode": "r",
   "file_extension": ".r",
   "mimetype": "text/x-r-source",
   "name": "R",
   "pygments_lexer": "r",
   "version": "4.0.4"
  }
 },
 "nbformat": 4,
 "nbformat_minor": 5
}
